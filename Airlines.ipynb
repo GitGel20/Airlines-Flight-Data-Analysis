{
 "cells": [
  {
   "cell_type": "code",
   "execution_count": 1,
   "id": "b99a9be3-e368-40d8-be52-c928bccf81a6",
   "metadata": {},
   "outputs": [
    {
     "name": "stdout",
     "output_type": "stream",
     "text": [
      "   index   airline   flight source_city departure_time stops   arrival_time  \\\n",
      "0      0  SpiceJet  SG-8709       Delhi        Evening  zero          Night   \n",
      "1      1  SpiceJet  SG-8157       Delhi  Early_Morning  zero        Morning   \n",
      "2      2   AirAsia   I5-764       Delhi  Early_Morning  zero  Early_Morning   \n",
      "3      3   Vistara   UK-995       Delhi        Morning  zero      Afternoon   \n",
      "4      4   Vistara   UK-963       Delhi        Morning  zero        Morning   \n",
      "\n",
      "  destination_city    class  duration  days_left  price  \n",
      "0           Mumbai  Economy      2.17          1   5953  \n",
      "1           Mumbai  Economy      2.33          1   5953  \n",
      "2           Mumbai  Economy      2.17          1   5956  \n",
      "3           Mumbai  Economy      2.25          1   5955  \n",
      "4           Mumbai  Economy      2.33          1   5955  \n"
     ]
    }
   ],
   "source": [
    "#Load the data\n",
    "import pandas as pd\n",
    "\n",
    "airlines = pd.read_csv('airlines_flights_data.csv')\n",
    "print(airlines.head())"
   ]
  },
  {
   "cell_type": "markdown",
   "id": "eb8c208c-31bf-470f-a74c-69e4f2fcc157",
   "metadata": {},
   "source": [
    "The data is about the \"Airline Flights Data\" of the country India. It contains the following columns:\n",
    "    airline - name of the Airline;\n",
    "    flight - flight code;\n",
    "    source_city - from where the flights starts;\n",
    "    departure_time - departure time of the flight from thew source city;\n",
    "    stops - number of stops from start to end of a flight;\n",
    "    arrival-time - arrival time of the flight at the destination city;\n",
    "    destination_city - where the flight ends;\n",
    "    duration - duration of the flights in hours;\n",
    "    days_left - number of days left before departure date of a flight (when they bought the ticket); and\n",
    "    price - ticket price of the flight.\n",
    "The dataset can be found in kaggle or thorugh this link, https://www.kaggle.com/datasets/rohitgrewal/airlines-flights-data."
   ]
  },
  {
   "cell_type": "code",
   "execution_count": 24,
   "id": "b4ebab76-1a80-4b6b-ba16-122232d0ccbc",
   "metadata": {},
   "outputs": [],
   "source": [
    "#Clean and Prepare the data for Exploratory Data Analysis"
   ]
  },
  {
   "cell_type": "code",
   "execution_count": 2,
   "id": "bf3fe835-a6eb-4263-9a45-56bc2bb9d2a1",
   "metadata": {},
   "outputs": [
    {
     "name": "stdout",
     "output_type": "stream",
     "text": [
      "index                 int64\n",
      "airline              object\n",
      "flight               object\n",
      "source_city          object\n",
      "departure_time       object\n",
      "stops                object\n",
      "arrival_time         object\n",
      "destination_city     object\n",
      "class                object\n",
      "duration            float64\n",
      "days_left             int64\n",
      "price                 int64\n",
      "dtype: object\n"
     ]
    }
   ],
   "source": [
    "#Check the data types per column\n",
    "print(airlines.dtypes)"
   ]
  },
  {
   "cell_type": "code",
   "execution_count": 3,
   "id": "398dfee7-a34f-4eb1-8cfc-7d2a07d6e6df",
   "metadata": {},
   "outputs": [
    {
     "name": "stdout",
     "output_type": "stream",
     "text": [
      "index               0\n",
      "airline             0\n",
      "flight              0\n",
      "source_city         0\n",
      "departure_time      0\n",
      "stops               0\n",
      "arrival_time        0\n",
      "destination_city    0\n",
      "class               0\n",
      "duration            0\n",
      "days_left           0\n",
      "price               0\n",
      "dtype: int64\n"
     ]
    }
   ],
   "source": [
    "#Check for missing values\n",
    "print(airlines.isnull().sum())"
   ]
  },
  {
   "cell_type": "code",
   "execution_count": 4,
   "id": "9e898f17-afd9-46fe-a194-171045e22ec7",
   "metadata": {},
   "outputs": [
    {
     "name": "stdout",
     "output_type": "stream",
     "text": [
      "0\n"
     ]
    }
   ],
   "source": [
    "#Check for duplicates\n",
    "print(airlines.duplicated().sum())"
   ]
  },
  {
   "cell_type": "code",
   "execution_count": 5,
   "id": "21a9803f-42c1-46fd-ac56-4947a460d9a8",
   "metadata": {},
   "outputs": [
    {
     "name": "stdout",
     "output_type": "stream",
     "text": [
      "    airline   flight source_city departure_time stops   arrival_time  \\\n",
      "0  SpiceJet  SG-8709       Delhi        Evening  zero          Night   \n",
      "1  SpiceJet  SG-8157       Delhi  Early_Morning  zero        Morning   \n",
      "2   AirAsia   I5-764       Delhi  Early_Morning  zero  Early_Morning   \n",
      "3   Vistara   UK-995       Delhi        Morning  zero      Afternoon   \n",
      "4   Vistara   UK-963       Delhi        Morning  zero        Morning   \n",
      "\n",
      "  destination_city    class  duration  days_left  price  \n",
      "0           Mumbai  Economy      2.17          1   5953  \n",
      "1           Mumbai  Economy      2.33          1   5953  \n",
      "2           Mumbai  Economy      2.17          1   5956  \n",
      "3           Mumbai  Economy      2.25          1   5955  \n",
      "4           Mumbai  Economy      2.33          1   5955  \n"
     ]
    }
   ],
   "source": [
    "#Drop Unnecessary Columns\n",
    "airlines = airlines.drop('index', axis=1)\n",
    "print(airlines.head())"
   ]
  },
  {
   "cell_type": "code",
   "execution_count": 6,
   "id": "7a4ac653-70b8-4aab-acf6-9b5d9dc955e1",
   "metadata": {
    "scrolled": true
   },
   "outputs": [
    {
     "name": "stdout",
     "output_type": "stream",
     "text": [
      "airline\n",
      "Vistara      127859\n",
      "Air_India     80892\n",
      "Indigo        43120\n",
      "GO_FIRST      23173\n",
      "AirAsia       16098\n",
      "SpiceJet       9011\n",
      "Name: count, dtype: int64\n",
      "flight\n",
      "UK-706     3235\n",
      "UK-772     2741\n",
      "UK-720     2650\n",
      "UK-836     2542\n",
      "UK-822     2468\n",
      "           ... \n",
      "6E-3211       1\n",
      "6E-6474       1\n",
      "6E-2914       1\n",
      "SG-1058       1\n",
      "6E-2939       1\n",
      "Name: count, Length: 1561, dtype: int64\n",
      "source_city\n",
      "Delhi        61343\n",
      "Mumbai       60896\n",
      "Bangalore    52061\n",
      "Kolkata      46347\n",
      "Hyderabad    40806\n",
      "Chennai      38700\n",
      "Name: count, dtype: int64\n",
      "departure_time\n",
      "Morning          71146\n",
      "Early_Morning    66790\n",
      "Evening          65102\n",
      "Night            48015\n",
      "Afternoon        47794\n",
      "Late_Night        1306\n",
      "Name: count, dtype: int64\n",
      "stops\n",
      "one            250863\n",
      "zero            36004\n",
      "two_or_more     13286\n",
      "Name: count, dtype: int64\n",
      "arrival_time\n",
      "Night            91538\n",
      "Evening          78323\n",
      "Morning          62735\n",
      "Afternoon        38139\n",
      "Early_Morning    15417\n",
      "Late_Night       14001\n",
      "Name: count, dtype: int64\n",
      "destination_city\n",
      "Mumbai       59097\n",
      "Delhi        57360\n",
      "Bangalore    51068\n",
      "Kolkata      49534\n",
      "Hyderabad    42726\n",
      "Chennai      40368\n",
      "Name: count, dtype: int64\n",
      "class\n",
      "Economy     206666\n",
      "Business     93487\n",
      "Name: count, dtype: int64\n"
     ]
    }
   ],
   "source": [
    "#Check for inconsistencies per qualitative column\n",
    "print(airlines['airline'].value_counts())\n",
    "print(airlines['flight'].value_counts())\n",
    "print(airlines['source_city'].value_counts())\n",
    "print(airlines['departure_time'].value_counts())\n",
    "print(airlines['stops'].value_counts())\n",
    "print(airlines['arrival_time'].value_counts())\n",
    "print(airlines['destination_city'].value_counts())\n",
    "print(airlines['class'].value_counts())"
   ]
  },
  {
   "cell_type": "code",
   "execution_count": 7,
   "id": "e164062c-a75f-4736-bb2c-5eb0c0564833",
   "metadata": {
    "scrolled": true
   },
   "outputs": [
    {
     "name": "stdout",
     "output_type": "stream",
     "text": [
      "airline\n",
      "Vistara      127859\n",
      "Air India     80892\n",
      "Indigo        43120\n",
      "GO FIRST      23173\n",
      "AirAsia       16098\n",
      "SpiceJet       9011\n",
      "Name: count, dtype: int64\n",
      "departure_time\n",
      "Morning          71146\n",
      "Early Morning    66790\n",
      "Evening          65102\n",
      "Night            48015\n",
      "Afternoon        47794\n",
      "Late Night        1306\n",
      "Name: count, dtype: int64\n",
      "arrival_time\n",
      "Night            91538\n",
      "Evening          78323\n",
      "Morning          62735\n",
      "Afternoon        38139\n",
      "Early Morning    15417\n",
      "Late Night       14001\n",
      "Name: count, dtype: int64\n"
     ]
    }
   ],
   "source": [
    "#Remove '_' in airline, departure_time, and arrival_time columns\n",
    "airlines['airline'] = airlines['airline'].str.replace(\"_\",\" \",regex=False)\n",
    "print(airlines['airline'].value_counts())\n",
    "\n",
    "airlines['departure_time'] = airlines['departure_time'].str.replace(\"_\",\" \",regex=False)\n",
    "print(airlines['departure_time'].value_counts())\n",
    "\n",
    "airlines['arrival_time'] = airlines['arrival_time'].str.replace(\"_\",\" \",regex=False)\n",
    "print(airlines['arrival_time'].value_counts())"
   ]
  },
  {
   "cell_type": "code",
   "execution_count": 8,
   "id": "82796c63-7e12-45cf-8a6a-5a1808ac5adc",
   "metadata": {},
   "outputs": [
    {
     "name": "stdout",
     "output_type": "stream",
     "text": [
      "stops\n",
      "1     250863\n",
      "0      36004\n",
      "1+     13286\n",
      "Name: count, dtype: int64\n"
     ]
    }
   ],
   "source": [
    "#Replace the values in stops column to 0, 1, 2+\n",
    "airlines['stops'] = airlines['stops'].replace({\n",
    "    'zero': '0',\n",
    "    'one':'1',\n",
    "    'two_or_more':'1+'})\n",
    "print(airlines['stops'].value_counts())"
   ]
  },
  {
   "cell_type": "code",
   "execution_count": 26,
   "id": "bfd257a4-ce6e-4e25-84a3-acc0b6c8bef7",
   "metadata": {},
   "outputs": [],
   "source": [
    "#Performing Exploratory Data Analysis to further understand the data structure, patterns, and anomalies."
   ]
  },
  {
   "cell_type": "code",
   "execution_count": 9,
   "id": "ae9a7078-466b-4ce6-874a-999c6bdac1e7",
   "metadata": {},
   "outputs": [
    {
     "data": {
      "image/png": "[encoded data removed]",
      "text/plain": [
       "<Figure size 640x480 with 1 Axes>"
      ]
     },
     "metadata": {},
     "output_type": "display_data"
    }
   ],
   "source": [
    "#Utilizing boxplot for visualization of outliers in duration column\n",
    "import matplotlib.pyplot as plt\n",
    "\n",
    "plt.boxplot(airlines['duration'],vert=True)\n",
    "plt.title('Duration Distrbution')\n",
    "plt.xlabel('Duration')\n",
    "plt.ylabel('Frequency')\n",
    "plt.show()"
   ]
  },
  {
   "cell_type": "code",
   "execution_count": 10,
   "id": "4d8db65d-7fb7-4630-8624-325bab6eeeab",
   "metadata": {},
   "outputs": [
    {
     "data": {
      "image/png": "[encoded data removed]",
      "text/plain": [
       "<Figure size 640x480 with 1 Axes>"
      ]
     },
     "metadata": {},
     "output_type": "display_data"
    }
   ],
   "source": [
    "#Utilizing boxplot for visualization of outliers in price column\n",
    "import matplotlib.pyplot as plt\n",
    "\n",
    "plt.boxplot(airlines['price'],vert=True)\n",
    "plt.title('Price Distrbution')\n",
    "plt.xlabel('Price')\n",
    "plt.ylabel('Frequency')\n",
    "plt.show()"
   ]
  },
  {
   "cell_type": "code",
   "execution_count": 11,
   "id": "15ebddd7-eac8-49d6-ba06-59aa4cdfa21f",
   "metadata": {},
   "outputs": [
    {
     "data": {
      "image/png": "[encoded data removed]",
      "text/plain": [
       "<Figure size 640x480 with 1 Axes>"
      ]
     },
     "metadata": {},
     "output_type": "display_data"
    }
   ],
   "source": [
    "#Utilizing boxplot for visualization of outliers in price column\n",
    "import matplotlib.pyplot as plt\n",
    "\n",
    "plt.boxplot(airlines['days_left'],vert=True)\n",
    "plt.title('Days Left Distrbution')\n",
    "plt.xlabel('Days Left')\n",
    "plt.ylabel('Frequency')\n",
    "plt.show()"
   ]
  },
  {
   "cell_type": "code",
   "execution_count": 12,
   "id": "deacad66-fda9-47b8-9a14-6b46c707e0e3",
   "metadata": {},
   "outputs": [],
   "source": [
    "#Based on the box plots, there are outliers in duration and price column."
   ]
  },
  {
   "cell_type": "code",
   "execution_count": 13,
   "id": "d91cc55a-6f8a-4a34-857a-1bed395f326a",
   "metadata": {},
   "outputs": [
    {
     "name": "stdout",
     "output_type": "stream",
     "text": [
      "            duration      days_left          price\n",
      "count  300153.000000  300153.000000  300153.000000\n",
      "mean       12.221021      26.004751   20889.660523\n",
      "std         7.191997      13.561004   22697.767366\n",
      "min         0.830000       1.000000    1105.000000\n",
      "25%         6.830000      15.000000    4783.000000\n",
      "50%        11.250000      26.000000    7425.000000\n",
      "75%        16.170000      38.000000   42521.000000\n",
      "max        49.830000      49.000000  123071.000000\n"
     ]
    }
   ],
   "source": [
    "#Confirming the outliers based on the summary statistics\n",
    "print(airlines.describe())"
   ]
  },
  {
   "cell_type": "code",
   "execution_count": 14,
   "id": "496768be-ffeb-4ba0-b560-0ccb190eb37d",
   "metadata": {},
   "outputs": [],
   "source": [
    "#Comparing mean and median of the duration and price columns, it indicates that the mean of the price column is heavily pulled away from the median, while the mean of duration is not."
   ]
  },
  {
   "cell_type": "code",
   "execution_count": 18,
   "id": "c2c1729f-561c-4ac3-b0d1-4658c4bde26a",
   "metadata": {},
   "outputs": [
    {
     "name": "stdout",
     "output_type": "stream",
     "text": [
      "    airline   flight source_city departure_time stops   arrival_time  \\\n",
      "0  SpiceJet  SG-8709       Delhi        Evening     0          Night   \n",
      "1  SpiceJet  SG-8157       Delhi  Early Morning     0        Morning   \n",
      "2   AirAsia   I5-764       Delhi  Early Morning     0  Early Morning   \n",
      "3   Vistara   UK-995       Delhi        Morning     0      Afternoon   \n",
      "4   Vistara   UK-963       Delhi        Morning     0        Morning   \n",
      "\n",
      "  destination_city    class  duration  days_left  price  \n",
      "0           Mumbai  Economy      2.17          1   5953  \n",
      "1           Mumbai  Economy      2.33          1   5953  \n",
      "2           Mumbai  Economy      2.17          1   5956  \n",
      "3           Mumbai  Economy      2.25          1   5955  \n",
      "4           Mumbai  Economy      2.33          1   5955  \n"
     ]
    }
   ],
   "source": [
    "#Therefore, we need to remove the outliers from the price column only.\n",
    "upper_Q = airlines['price'].quantile(0.75)\n",
    "lower_Q = airlines['price'].quantile(0.25)\n",
    "IQR = upper_Q - lower_Q\n",
    "upper_outliers = upper_Q + (1.5 * IQR)\n",
    "lower_outliers = lower_Q - (1.5 * IQR)\n",
    "airlines = airlines[(airlines['price']>=lower_outliers) & (airlines['price']<=upper_outliers)]\n",
    "print(airlines.head())"
   ]
  },
  {
   "cell_type": "code",
   "execution_count": 19,
   "id": "83348159-28ee-45c7-a615-ee9dddde0eac",
   "metadata": {},
   "outputs": [
    {
     "name": "stdout",
     "output_type": "stream",
     "text": [
      "            duration      days_left          price\n",
      "count  300030.000000  300030.000000  300030.000000\n",
      "mean       12.220126      26.012009   20855.326674\n",
      "std         7.192515      13.557878   22638.775853\n",
      "min         0.830000       1.000000    1105.000000\n",
      "25%         6.830000      15.000000    4783.000000\n",
      "50%        11.250000      26.000000    7425.000000\n",
      "75%        16.170000      38.000000   42521.000000\n",
      "max        49.830000      49.000000   98972.000000\n"
     ]
    }
   ],
   "source": [
    "#Confirming the removal of outliers in price column\n",
    "print(airlines.describe())"
   ]
  },
  {
   "cell_type": "code",
   "execution_count": 23,
   "id": "9ee0d379-e14d-46c2-b26e-bbbfe33a2544",
   "metadata": {
    "scrolled": true
   },
   "outputs": [
    {
     "name": "stdout",
     "output_type": "stream",
     "text": [
      "    airline   flight source_city departure_time stops   arrival_time  \\\n",
      "0  SpiceJet  SG-8709       Delhi        Evening     0          Night   \n",
      "1  SpiceJet  SG-8157       Delhi  Early Morning     0        Morning   \n",
      "2   AirAsia   I5-764       Delhi  Early Morning     0  Early Morning   \n",
      "3   Vistara   UK-995       Delhi        Morning     0      Afternoon   \n",
      "4   Vistara   UK-963       Delhi        Morning     0        Morning   \n",
      "\n",
      "  destination_city    class  duration  days_left  price  \n",
      "0           Mumbai  Economy      2.17          1   5953  \n",
      "1           Mumbai  Economy      2.33          1   5953  \n",
      "2           Mumbai  Economy      2.17          1   5956  \n",
      "3           Mumbai  Economy      2.25          1   5955  \n",
      "4           Mumbai  Economy      2.33          1   5955  \n"
     ]
    }
   ],
   "source": [
    "#Now, the data is ready for visualizations.\n",
    "print(airlines.head())"
   ]
  }
 ],
 "metadata": {
  "kernelspec": {
   "display_name": "anaconda-2024.02-py310",
   "language": "python",
   "name": "conda-env-anaconda-2024.02-py310-py"
  },
  "language_info": {
   "codemirror_mode": {
    "name": "ipython",
    "version": 3
   },
   "file_extension": ".py",
   "mimetype": "text/x-python",
   "name": "python",
   "nbconvert_exporter": "python",
   "pygments_lexer": "ipython3",
   "version": "3.10.14"
  }
 },
 "nbformat": 4,
 "nbformat_minor": 5
}
